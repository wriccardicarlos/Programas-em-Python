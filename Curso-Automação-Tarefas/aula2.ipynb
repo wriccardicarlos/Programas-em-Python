{
 "cells": [
  {
   "cell_type": "markdown",
   "metadata": {},
   "source": [
    "Python Insights - Analisando Dados com Python\n",
    "\n",
    "Cancelamento de Clientes\n"
   ]
  },
  {
   "cell_type": "code",
   "execution_count": 47,
   "metadata": {},
   "outputs": [
    {
     "data": {
      "text/plain": [
       "cancelou\n",
       "0.0    81.6%\n",
       "1.0    18.4%\n",
       "Name: proportion, dtype: object"
      ]
     },
     "metadata": {},
     "output_type": "display_data"
    }
   ],
   "source": [
    "import pandas as pd\n",
    "import plotly.express as px\n",
    "\n",
    "tabela = pd.read_csv('cancelamentos.csv')\n",
    "#remove colunas inúteis\n",
    "tabela = tabela.drop(columns='CustomerID')\n",
    "#remove linhas com informações faltando\n",
    "tabela = tabela.dropna()\n",
    "#conta quantos clientes cancelaram -> normalize = percentual\n",
    "#display(tabela['cancelou'].value_counts(normalize=True).map(\"{:.1%}\".format))\n",
    "\n",
    "#cria o gráfico\n",
    "\"\"\"\n",
    "for coluna in tabela.columns:\n",
    "    grafico = px.histogram(tabela, color='cancelou', x=coluna, text_auto=True)\n",
    "    grafico.show()\n",
    "\"\"\"\n",
    "tabela = tabela[tabela['duracao_contrato']!='Monthly']\n",
    "tabela = tabela[tabela['ligacoes_callcenter']<=4.0]\n",
    "tabela = tabela[tabela['dias_atraso']<=20.0]\n",
    "\n",
    "display(tabela['cancelou'].value_counts(normalize=True).map(\"{:.1%}\".format))\n",
    "\n",
    "#display(tabela.info())"
   ]
  }
 ],
 "metadata": {
  "kernelspec": {
   "display_name": "venv",
   "language": "python",
   "name": "python3"
  },
  "language_info": {
   "codemirror_mode": {
    "name": "ipython",
    "version": 3
   },
   "file_extension": ".py",
   "mimetype": "text/x-python",
   "name": "python",
   "nbconvert_exporter": "python",
   "pygments_lexer": "ipython3",
   "version": "3.12.7"
  }
 },
 "nbformat": 4,
 "nbformat_minor": 2
}
