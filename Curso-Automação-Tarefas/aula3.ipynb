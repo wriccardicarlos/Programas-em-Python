{
 "cells": [
  {
   "cell_type": "markdown",
   "metadata": {},
   "source": [
    "Python IA - Inteligência artificial e previsões\n",
    "\n",
    "Score de crédito dos clientes"
   ]
  },
  {
   "cell_type": "code",
   "execution_count": null,
   "metadata": {},
   "outputs": [],
   "source": [
    "import pandas as pd\n",
    "from sklearn.preprocessing import LabelEncoder\n",
    "from sklearn.model_selection import train_test_split\n",
    "# importa a IA\n",
    "from sklearn.ensemble import RandomForestClassifier\n",
    "from sklearn.neighbors import KNeighborsClassifier\n",
    "# acuracia\n",
    "from sklearn.metrics import accuracy_score\n",
    "\n",
    "tabela = pd.read_csv('clientes.csv')\n",
    "\n",
    "# codificação das colunas\n",
    "#codProfissao, codMixCredito, codPagamento = LabelEncoder(), LabelEncoder(), LabelEncoder()\n",
    "codProfissao = LabelEncoder()\n",
    "tabela['profissao'] = codProfissao.fit_transform(tabela['profissao'])\n",
    "\n",
    "codMixCredito = LabelEncoder()\n",
    "tabela['mix_credito'] = codMixCredito.fit_transform(tabela['mix_credito'])\n",
    "\n",
    "codPagamento = LabelEncoder()\n",
    "tabela['comportamento_pagamento'] = codMixCredito.fit_transform(tabela['comportamento_pagamento'])\n",
    "\n",
    "# quem eu quero prever\n",
    "y = tabela['score_credito']\n",
    "# quem eu vou usar para fazer a previsão\n",
    "x = tabela.drop(columns='score_credito')\n",
    "\n",
    "# treinar a IA\n",
    "x_treino, x_teste, y_treino, y_teste = train_test_split(x, y, test_size=0.2)\n",
    "\n",
    "# cria a IA\n",
    "rf = RandomForestClassifier\n",
    "knn = KNeighborsClassifier\n",
    "\n",
    "# treina a IA\n",
    "rf.fit(x_treino, y_treino)\n",
    "knn.fit(x_treino,y_treino)\n",
    "\n",
    "# avaliar o melhor modelo IA\n",
    "previsao_arvoredecisao = rf.predict(x_teste)\n",
    "previsao_knn = knn.predict(y_teste)\n",
    "\n",
    "display(rf.score(x_teste, y_teste))\n",
    "\n",
    "#display(tabela)"
   ]
  }
 ],
 "metadata": {
  "kernelspec": {
   "display_name": "venv",
   "language": "python",
   "name": "python3"
  },
  "language_info": {
   "codemirror_mode": {
    "name": "ipython",
    "version": 3
   },
   "file_extension": ".py",
   "mimetype": "text/x-python",
   "name": "python",
   "nbconvert_exporter": "python",
   "pygments_lexer": "ipython3",
   "version": "3.12.7"
  }
 },
 "nbformat": 4,
 "nbformat_minor": 2
}
